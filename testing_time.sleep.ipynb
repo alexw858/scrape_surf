{
 "cells": [
  {
   "cell_type": "markdown",
   "metadata": {},
   "source": [
    "# Testing random, time.sleep, and datetime formatting"
   ]
  },
  {
   "cell_type": "code",
   "execution_count": 27,
   "metadata": {
    "collapsed": true
   },
   "outputs": [],
   "source": [
    "import time\n",
    "import random\n",
    "import datetime"
   ]
  },
  {
   "cell_type": "code",
   "execution_count": 7,
   "metadata": {
    "collapsed": true
   },
   "outputs": [],
   "source": [
    "links = [\"https://www.surfline.com/surf-report/camaronal/584204204e65fad6a7709140\", \\\n",
    "         \"https://www.surfline.com/surf-report/bluff-beach/584204204e65fad6a7709afa\", \\\n",
    "         \"https://www.surfline.com/surf-report/bocas-del-toro/5842041f4e65fad6a7708dc1\"]"
   ]
  },
  {
   "cell_type": "code",
   "execution_count": 20,
   "metadata": {},
   "outputs": [
    {
     "data": {
      "text/plain": [
       "6.004231355934126"
      ]
     },
     "execution_count": 20,
     "metadata": {},
     "output_type": "execute_result"
    }
   ],
   "source": [
    "# get a random float number between 5 and 10\n",
    "(random.random()+1) * 5"
   ]
  },
  {
   "cell_type": "code",
   "execution_count": 26,
   "metadata": {},
   "outputs": [
    {
     "name": "stdout",
     "output_type": "stream",
     "text": [
      "https://www.surfline.com/surf-report/camaronal/584204204e65fad6a7709140\n",
      "Waiting for 9.672448771738553 seconds\n",
      "https://www.surfline.com/surf-report/bluff-beach/584204204e65fad6a7709afa\n",
      "Waiting for 5.392829205026267 seconds\n"
     ]
    }
   ],
   "source": [
    "for link in links[:2]:\n",
    "    print(link)\n",
    "    a=(random.random()+1) * 5\n",
    "    print(\"Waiting for\", a, \"seconds\")\n",
    "    time.sleep(a)"
   ]
  },
  {
   "cell_type": "code",
   "execution_count": 37,
   "metadata": {},
   "outputs": [
    {
     "name": "stdout",
     "output_type": "stream",
     "text": [
      "2019-04-22 21:49:33.789962\n"
     ]
    }
   ],
   "source": [
    "# datetime_object = datetime.datetime.utcnow().strftime(\"%Y%m%d%H%M\")\n",
    "datetime_object = datetime.datetime.utcnow()\n",
    "# datetime_object = datetime.datetime.now()\n",
    "print(datetime_object)"
   ]
  },
  {
   "cell_type": "code",
   "execution_count": 44,
   "metadata": {},
   "outputs": [
    {
     "name": "stdout",
     "output_type": "stream",
     "text": [
      "2019-04-22 22:13:23\n"
     ]
    }
   ],
   "source": [
    "# datetime_object = datetime.datetime.utcnow().strftime(\"%Y-%m-%d %H:%M:%S\")\n",
    "datetime_object = datetime.datetime.now().strftime(\"%Y-%m-%d %H:%M:%S\")\n",
    "print(datetime_object)"
   ]
  }
 ],
 "metadata": {
  "kernelspec": {
   "display_name": "Python 3",
   "language": "python",
   "name": "python3"
  },
  "language_info": {
   "codemirror_mode": {
    "name": "ipython",
    "version": 3
   },
   "file_extension": ".py",
   "mimetype": "text/x-python",
   "name": "python",
   "nbconvert_exporter": "python",
   "pygments_lexer": "ipython3",
   "version": "3.6.1"
  }
 },
 "nbformat": 4,
 "nbformat_minor": 2
}
